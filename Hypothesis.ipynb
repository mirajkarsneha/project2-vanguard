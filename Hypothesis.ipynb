{
 "cells": [
  {
   "cell_type": "code",
   "execution_count": null,
   "id": "ba3b02d2-a376-43e0-8e2f-a6f8658eb8fe",
   "metadata": {},
   "outputs": [],
   "source": [
    "# Completion Rate Given the data and KPIs you have explored discussed, \n",
    "# one interesting hypothesis to test is related to the completion rate between the Test and Control groups.\n",
    "# Since the new design (Test group) had a higher completion rate compared to the old design (Control group), \n",
    "# you are required to confirm if this difference is statistically significant.\n",
    "\n",
    "import pandas as pd\n",
    "from scipy.stats import ttest_ind\n",
    "\n",
    "test_group_clients = pd.read_csv('DataFiles/test_group.csv')\n",
    "control_group_clients = pd.read_csv('DataFiles/control_group.csv')\n",
    "\n",
    "test_group_clients = df[(df[\"Type 1\"] == \"Dragon\") | (df[\"Type 2\"] == \"Dragon\")][\"HP\"]\n",
    "control_group_clients = df[(df[\"Type 1\"] == \"Grass\") | (df[\"Type 2\"] == \"Grass\")][\"HP\"]\n",
    "\n"
   ]
  }
 ],
 "metadata": {
  "kernelspec": {
   "display_name": "Python 3 (ipykernel)",
   "language": "python",
   "name": "python3"
  },
  "language_info": {
   "codemirror_mode": {
    "name": "ipython",
    "version": 3
   },
   "file_extension": ".py",
   "mimetype": "text/x-python",
   "name": "python",
   "nbconvert_exporter": "python",
   "pygments_lexer": "ipython3",
   "version": "3.12.4"
  }
 },
 "nbformat": 4,
 "nbformat_minor": 5
}
